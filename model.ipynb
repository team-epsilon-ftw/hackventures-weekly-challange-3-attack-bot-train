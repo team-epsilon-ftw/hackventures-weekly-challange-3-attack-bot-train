{
 "cells": [
  {
   "cell_type": "code",
   "execution_count": 38,
   "metadata": {},
   "outputs": [],
   "source": [
    "import pandas as pd\n",
    "import numpy as np\n"
   ]
  },
  {
   "cell_type": "code",
   "execution_count": 39,
   "metadata": {},
   "outputs": [
    {
     "name": "stdout",
     "output_type": "stream",
     "text": [
      "{'N': 0, 'B': 1, 'H': 2}\n",
      "{0: 'N', 1: 'B', 2: 'H'}\n"
     ]
    }
   ],
   "source": [
    "from sklearn.model_selection import train_test_split\n",
    "from sklearn.preprocessing import LabelEncoder\n",
    "\n",
    "features_df = pd.read_csv('./processed_data/processed-inputs.csv')\n",
    "\n",
    "\n",
    "unique_values = features_df[\"status\"].unique()\n",
    "encoder = {value: index for index, value in enumerate(unique_values)}\n",
    "print(encoder)  # Corrected variable name for printing\n",
    "decoder = {v: k for k, v in encoder.items()}  # Use 'encoder' for reversing\n",
    "print(decoder)\n",
    "\n",
    "features_df[\"status\"] = features_df[\"status\"].replace(encoder)\n",
    "\n",
    "# Step 2: Get 64 lines in each iteration and put to list (list of lists for X)\n",
    "X = np.array([features_df.iloc[i:i+64, 3].values.flatten()\n",
    "              for i in range(0, len(features_df), 64)])"
   ]
  },
  {
   "cell_type": "code",
   "execution_count": 40,
   "metadata": {},
   "outputs": [
    {
     "name": "stdout",
     "output_type": "stream",
     "text": [
      "(200, 64)\n"
     ]
    }
   ],
   "source": [
    "print(X.shape)"
   ]
  },
  {
   "cell_type": "code",
   "execution_count": 41,
   "metadata": {},
   "outputs": [],
   "source": [
    "# Indexes to remove, adjusted to be 0-based\n",
    "indexes_to_remove = [32, 102, 104, 113, 116, 122, 137, 150]\n",
    "# Adjusting to 0-based indexing\n",
    "indexes_to_remove = [i - 1 for i in indexes_to_remove]\n",
    "\n",
    "# Remove elements at the specified indexes\n",
    "X = np.delete(X, indexes_to_remove, axis=0)"
   ]
  },
  {
   "cell_type": "code",
   "execution_count": 42,
   "metadata": {},
   "outputs": [
    {
     "name": "stdout",
     "output_type": "stream",
     "text": [
      "(192, 64)\n"
     ]
    }
   ],
   "source": [
    "print(X.shape)"
   ]
  },
  {
   "cell_type": "code",
   "execution_count": 43,
   "metadata": {},
   "outputs": [],
   "source": [
    "# Step 3: Read target.csv into a DataFrame for Y\n",
    "target_df = pd.read_csv('./processed_data/processed-targets.csv')\n",
    "# one_hot_encoded = pd.get_dummies(target_df[\"x\"], prefix=\"x\")\n",
    "# target_df = pd.concat(\n",
    "#     [target_df.drop(\"x\", axis=1), one_hot_encoded], axis=1)\n",
    "\n",
    "# one_hot_encoded = pd.get_dummies(target_df[\"y\"], prefix=\"y\")\n",
    "# target_df = pd.concat(\n",
    "#     [target_df.drop(\"y\", axis=1), one_hot_encoded], axis=1)\n",
    "\n",
    "Y = target_df.values"
   ]
  },
  {
   "cell_type": "code",
   "execution_count": 45,
   "metadata": {},
   "outputs": [
    {
     "name": "stdout",
     "output_type": "stream",
     "text": [
      "(192, 64)\n",
      "[0 0 1 0 0 0 0 0 0 1 1 0 1 0 1 0 0 0 0 0 0 0 0 0 0 0 0 0 0 0 2 0 0 2 2 0 2\n",
      " 0 2 0 0 0 1 0 0 0 2 0 0 0 0 0 0 0 2 0 0 0 0 1 0 0 2 0]\n",
      "(192, 2)\n",
      "[4 3]\n"
     ]
    }
   ],
   "source": [
    "print(X.shape)\n",
    "print(X[0])\n",
    "print(Y.shape)\n",
    "print(Y[0])"
   ]
  },
  {
   "cell_type": "code",
   "execution_count": 46,
   "metadata": {},
   "outputs": [],
   "source": [
    "\n",
    "\n",
    "# Ensure X and Y have compatible shapes\n",
    "assert len(X) == len(Y), \"The lengths of X and Y do not match.\"\n",
    "\n",
    "# Step 4: Make a dataset from this\n",
    "# Note: X is already a list of lists, and Y is a numpy array from the DataFrame\n",
    "\n",
    "# Step 5: Split the dataset into training and testing sets\n",
    "X_train, X_test, Y_train, Y_test = train_test_split(\n",
    "    X, Y, test_size=0.2, random_state=42)\n",
    "\n",
    "# X_train, X_test, Y_train, Y_test are now ready for use in model training and evaluation"
   ]
  },
  {
   "cell_type": "code",
   "execution_count": 47,
   "metadata": {},
   "outputs": [
    {
     "name": "stdout",
     "output_type": "stream",
     "text": [
      "(153, 64)\n",
      "(153, 2)\n"
     ]
    }
   ],
   "source": [
    "print(X_train.shape)\n",
    "print(Y_train.shape)\n"
   ]
  },
  {
   "cell_type": "code",
   "execution_count": 48,
   "metadata": {},
   "outputs": [],
   "source": [
    "from tensorflow.keras.models import Sequential, save_model\n",
    "from tensorflow.keras.layers import Dense, Input\n",
    "from tensorflow.keras.optimizers import Adam"
   ]
  },
  {
   "cell_type": "code",
   "execution_count": 53,
   "metadata": {},
   "outputs": [],
   "source": [
    "# Create the model\n",
    "model = Sequential([\n",
    "    Dense(128, activation='relu', input_dim=64),\n",
    "    Dense(64, activation='relu'),\n",
    "    Dense(2, activation='linear')\n",
    "])\n",
    "\n",
    "model.compile(optimizer='adam', loss='mse')"
   ]
  },
  {
   "cell_type": "code",
   "execution_count": 54,
   "metadata": {},
   "outputs": [],
   "source": [
    "# Step 1: Split the DataFrame into Train and Test Sets\n",
    "from sklearn.model_selection import train_test_split\n",
    "from keras.callbacks import EarlyStopping\n",
    "import matplotlib.pyplot as plt"
   ]
  },
  {
   "cell_type": "code",
   "execution_count": 55,
   "metadata": {},
   "outputs": [
    {
     "name": "stdout",
     "output_type": "stream",
     "text": [
      "Epoch 23: early stopping\n"
     ]
    },
    {
     "data": {
      "image/png": "[encoded data removed]",
      "text/plain": [
       "<Figure size 640x480 with 1 Axes>"
      ]
     },
     "metadata": {},
     "output_type": "display_data"
    }
   ],
   "source": [
    "# Step 2: Define the model (assuming you have already defined 'model' as per previous instructions)\n",
    "# Add EarlyStopping callback\n",
    "early_stopping = EarlyStopping(\n",
    "    monitor='val_loss', patience=5, verbose=1, mode='min')\n",
    "\n",
    "# Step 3: Model Training Loop\n",
    "history = model.fit(X_train, Y_train, epochs=100,\n",
    "                    validation_split=0.2, callbacks=[early_stopping], verbose=0)\n",
    "\n",
    "# Step 4: Plot Losses\n",
    "plt.plot(history.history['loss'], label='Training Loss')\n",
    "plt.plot(history.history['val_loss'], label='Validation Loss')\n",
    "plt.title('Model Loss')\n",
    "plt.ylabel('Loss')\n",
    "plt.xlabel('Epoch')\n",
    "plt.legend()\n",
    "plt.show()"
   ]
  },
  {
   "cell_type": "code",
   "execution_count": 56,
   "metadata": {},
   "outputs": [
    {
     "name": "stderr",
     "output_type": "stream",
     "text": [
      "WARNING:absl:You are saving your model as an HDF5 file via `model.save()` or `keras.saving.save_model(model)`. This file format is considered legacy. We recommend using instead the native Keras format, e.g. `model.save('my_model.keras')` or `keras.saving.save_model(model, 'my_model.keras')`. \n"
     ]
    }
   ],
   "source": [
    "model.save('./model/keras-ann-model.h5')\n",
    "save_model(model, './model/keras-ann-model.keras')"
   ]
  }
 ],
 "metadata": {
  "kernelspec": {
   "display_name": "Python 3",
   "language": "python",
   "name": "python3"
  },
  "language_info": {
   "codemirror_mode": {
    "name": "ipython",
    "version": 3
   },
   "file_extension": ".py",
   "mimetype": "text/x-python",
   "name": "python",
   "nbconvert_exporter": "python",
   "pygments_lexer": "ipython3",
   "version": "3.12.1"
  }
 },
 "nbformat": 4,
 "nbformat_minor": 2
}
